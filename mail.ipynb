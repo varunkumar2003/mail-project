{
 "cells": [
  {
   "cell_type": "code",
   "execution_count": 3,
   "id": "0066559f",
   "metadata": {},
   "outputs": [
    {
     "name": "stdout",
     "output_type": "stream",
     "text": [
      "sendmail\n"
     ]
    },
    {
     "data": {
      "text/plain": [
       "(221,\n",
       " b'2.0.0 closing connection a4-20020a17090a740400b0022bab07f578sm7788839pjg.11 - gsmtp')"
      ]
     },
     "execution_count": 3,
     "metadata": {},
     "output_type": "execute_result"
    }
   ],
   "source": [
    "import smtplib as s\n",
    "\n",
    "ob=s.SMTP('smtp.gmail.com',587)\n",
    "ob.ehlo()\n",
    "ob.starttls()\n",
    "ob.login('varshith@gmail.com','wltbqvwhvsdqpitr')\n",
    "subject=\"i am single\"\n",
    "body=\"i need a girlfriend\"\n",
    "massage=\"subject:{}\\n\\n{}\".format(subject,body)\n",
    "listall=['gvarunkumar.008@gmail.com','varshith@gmail.com']\n",
    "ob.sendmail('moksha.prattipati@gmail.com',listall,massage)\n",
    "print(\"sendmail\")\n",
    "ob.quit()"
   ]
  },
  {
   "cell_type": "code",
   "execution_count": null,
   "id": "28ec5a29",
   "metadata": {},
   "outputs": [],
   "source": []
  }
 ],
 "metadata": {
  "kernelspec": {
   "display_name": "Python 3 (ipykernel)",
   "language": "python",
   "name": "python3"
  },
  "language_info": {
   "codemirror_mode": {
    "name": "ipython",
    "version": 3
   },
   "file_extension": ".py",
   "mimetype": "text/x-python",
   "name": "python",
   "nbconvert_exporter": "python",
   "pygments_lexer": "ipython3",
   "version": "3.9.7"
  }
 },
 "nbformat": 4,
 "nbformat_minor": 5
}
